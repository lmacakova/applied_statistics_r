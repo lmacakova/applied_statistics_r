{
 "cells": [
  {
   "cell_type": "code",
   "execution_count": 5,
   "id": "c7b95e52",
   "metadata": {},
   "outputs": [],
   "source": [
    "import math as math\n",
    "import itertools\n",
    "import random\n",
    "import numpy as np\n",
    "import matplotlib.pyplot as plt\n",
    "import pandas as pd"
   ]
  },
  {
   "cell_type": "markdown",
   "id": "a659138d",
   "metadata": {},
   "source": [
    "### Task 1 - Permutations and Combinations\n",
    "#### Simulate an adaptation of the Lady Tasting Tea experiment.\n",
    "1. Compute the probability of a subject correctly identifying 3 cups from 10 by guessing."
   ]
  },
  {
   "cell_type": "code",
   "execution_count": 9,
   "id": "73eca8d8",
   "metadata": {},
   "outputs": [
    {
     "data": {
      "text/plain": [
       "120"
      ]
     },
     "execution_count": 9,
     "metadata": {},
     "output_type": "execute_result"
    }
   ],
   "source": [
    "n=10\n",
    "k=3\n",
    "math.comb(n,k)"
   ]
  },
  {
   "cell_type": "markdown",
   "id": "aedb0c52",
   "metadata": {},
   "source": [
    "There are 120 ways of choose 3 cups from 10 cups."
   ]
  },
  {
   "cell_type": "code",
   "execution_count": 8,
   "id": "adf7aa56",
   "metadata": {},
   "outputs": [
    {
     "data": {
      "text/plain": [
       "['a', 'b', 'c', 'd', 'e', 'f', 'h', 'i', 'j', 'l']"
      ]
     },
     "execution_count": 8,
     "metadata": {},
     "output_type": "execute_result"
    }
   ],
   "source": [
    "labels = ['a', 'b', 'c', 'd', 'e', 'f', 'h', 'i', 'j', 'l']\n",
    "labels"
   ]
  },
  {
   "cell_type": "code",
   "execution_count": 14,
   "id": "e31cab13",
   "metadata": {},
   "outputs": [
    {
     "data": {
      "text/plain": [
       "120"
      ]
     },
     "execution_count": 14,
     "metadata": {},
     "output_type": "execute_result"
    }
   ],
   "source": [
    "combs = list(itertools.combinations(labels, k))\n",
    "\n",
    "len(combs)"
   ]
  },
  {
   "cell_type": "code",
   "execution_count": 7,
   "id": "72fe170b",
   "metadata": {},
   "outputs": [
    {
     "data": {
      "text/plain": [
       "[5, 9, 4]"
      ]
     },
     "execution_count": 7,
     "metadata": {},
     "output_type": "execute_result"
    }
   ],
   "source": [
    "labels_n = random.sample(labels, 3)\n",
    "labels_n"
   ]
  },
  {
   "cell_type": "code",
   "execution_count": 20,
   "id": "1d6310ee",
   "metadata": {},
   "outputs": [],
   "source": [
    "for i in range(1000):\n",
    "    no_overlaps = []\n",
    "\n",
    "    for comb in combs:\n",
    "      # Turn comb into a set.\n",
    "      s1 = set(comb)\n",
    "      # Turn labels_milk into a set.\n",
    "      s2 = set(labels_n)\n",
    "      # Figure out where they overlap.\n",
    "      overlap = s1.intersection(s2)\n",
    "      # Show the combination and the overlap.\n",
    "    # print(comb, overlap, len(overlap))\n",
    "      # Append overlap to no_overlaps.\n",
    "no_overlaps.append(len(overlap))"
   ]
  },
  {
   "cell_type": "code",
   "execution_count": 21,
   "id": "8291138e",
   "metadata": {},
   "outputs": [
    {
     "data": {
      "text/plain": [
       "(array([1]), array([1], dtype=int64))"
      ]
     },
     "execution_count": 21,
     "metadata": {},
     "output_type": "execute_result"
    }
   ],
   "source": [
    "# Count the number of times each overlap occurs.\n",
    "counts = np.unique(no_overlaps, return_counts=True)\n",
    "\n",
    "# Show.\n",
    "counts"
   ]
  },
  {
   "cell_type": "code",
   "execution_count": 10,
   "id": "05ed4aae",
   "metadata": {},
   "outputs": [
    {
     "data": {
      "text/plain": [
       "<BarContainer object of 4 artists>"
      ]
     },
     "execution_count": 10,
     "metadata": {},
     "output_type": "execute_result"
    },
    {
     "data": {
      "image/png": "[encoded data removed]",
      "text/plain": [
       "<Figure size 1200x800 with 1 Axes>"
      ]
     },
     "metadata": {},
     "output_type": "display_data"
    }
   ],
   "source": [
    "# Create a figure.\n",
    "fig, ax = plt.subplots(figsize=(12, 8))\n",
    "\n",
    "# Bar chart.\n",
    "ax.bar(counts[0], counts[1])"
   ]
  },
  {
   "cell_type": "code",
   "execution_count": 13,
   "id": "b1364741",
   "metadata": {},
   "outputs": [
    {
     "data": {
      "text/plain": [
       "30.0"
      ]
     },
     "execution_count": 13,
     "metadata": {},
     "output_type": "execute_result"
    }
   ],
   "source": [
    "(35+1)/120*100"
   ]
  },
  {
   "cell_type": "code",
   "execution_count": 14,
   "id": "1d522419",
   "metadata": {},
   "outputs": [
    {
     "data": {
      "text/plain": [
       "53.333333333333336"
      ]
     },
     "execution_count": 14,
     "metadata": {},
     "output_type": "execute_result"
    }
   ],
   "source": [
    "(63+1)/120*100"
   ]
  },
  {
   "cell_type": "code",
   "execution_count": 15,
   "id": "a5ced698",
   "metadata": {},
   "outputs": [
    {
     "data": {
      "text/plain": [
       "17.5"
      ]
     },
     "execution_count": 15,
     "metadata": {},
     "output_type": "execute_result"
    }
   ],
   "source": [
    "(20+1)/120*100"
   ]
  },
  {
   "cell_type": "code",
   "execution_count": 16,
   "id": "57b57fec",
   "metadata": {},
   "outputs": [
    {
     "data": {
      "text/plain": [
       "0.8333333333333334"
      ]
     },
     "execution_count": 16,
     "metadata": {},
     "output_type": "execute_result"
    }
   ],
   "source": [
    "1/120*100"
   ]
  }
 ],
 "metadata": {
  "kernelspec": {
   "display_name": "base",
   "language": "python",
   "name": "python3"
  },
  "language_info": {
   "codemirror_mode": {
    "name": "ipython",
    "version": 3
   },
   "file_extension": ".py",
   "mimetype": "text/x-python",
   "name": "python",
   "nbconvert_exporter": "python",
   "pygments_lexer": "ipython3",
   "version": "3.11.5"
  }
 },
 "nbformat": 4,
 "nbformat_minor": 5
}
