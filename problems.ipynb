{
 "cells": [
  {
   "cell_type": "markdown",
   "id": "d506befc",
   "metadata": {},
   "source": [
    "# Problems"
   ]
  },
  {
   "cell_type": "code",
   "execution_count": 3,
   "id": "c7b95e52",
   "metadata": {},
   "outputs": [],
   "source": [
    "import math as math\n",
    "# https://docs.python.org/3/library/math.html\n",
    "import itertools\n",
    "# https://docs.python.org/3/library/itertools.html\n",
    "import random\n",
    "# https://docs.python.org/3/library/random.html\n",
    "import numpy as np\n",
    "# https://numpy.org/doc/stable/\n",
    "import matplotlib.pyplot as plt\n",
    "# https://matplotlib.org/stable/contents.html\n",
    "import pandas as pd\n",
    "# https://pandas.pydata.org/pandas-docs/stable/index.html\n",
    "import scipy.stats as stats\n"
   ]
  },
  {
   "cell_type": "markdown",
   "id": "a659138d",
   "metadata": {},
   "source": [
    "## Problem 1 - Permutations and Combinations\n",
    "#### Simulate an adaptation of the Lady Tasting Tea experiment.\n",
    "1. Compute the probability of a subject correctly identifying 3 cups from 10 by guessing."
   ]
  },
  {
   "cell_type": "code",
   "execution_count": 2,
   "id": "73eca8d8",
   "metadata": {},
   "outputs": [
    {
     "data": {
      "text/plain": [
       "120"
      ]
     },
     "execution_count": 2,
     "metadata": {},
     "output_type": "execute_result"
    }
   ],
   "source": [
    "n=10\n",
    "k=3\n",
    "math.comb(n,k)"
   ]
  },
  {
   "cell_type": "markdown",
   "id": "aedb0c52",
   "metadata": {},
   "source": [
    "There are 120 ways of choose 3 cups from 10 cups."
   ]
  },
  {
   "cell_type": "code",
   "execution_count": 3,
   "id": "adf7aa56",
   "metadata": {},
   "outputs": [
    {
     "data": {
      "text/plain": [
       "[0, 1, 2, 3, 4, 5, 6, 7, 8, 9]"
      ]
     },
     "execution_count": 3,
     "metadata": {},
     "output_type": "execute_result"
    }
   ],
   "source": [
    "labels = list(range(n))\n",
    "labels"
   ]
  },
  {
   "cell_type": "code",
   "execution_count": 4,
   "id": "e31cab13",
   "metadata": {},
   "outputs": [
    {
     "data": {
      "text/plain": [
       "120"
      ]
     },
     "execution_count": 4,
     "metadata": {},
     "output_type": "execute_result"
    }
   ],
   "source": [
    "combs = list(itertools.combinations(labels, k))\n",
    "\n",
    "len(combs)"
   ]
  },
  {
   "cell_type": "code",
   "execution_count": 5,
   "id": "72fe170b",
   "metadata": {},
   "outputs": [
    {
     "data": {
      "text/plain": [
       "[5, 7, 2]"
      ]
     },
     "execution_count": 5,
     "metadata": {},
     "output_type": "execute_result"
    }
   ],
   "source": [
    "labels_n = random.sample(labels, 3)\n",
    "labels_n"
   ]
  },
  {
   "cell_type": "code",
   "execution_count": 6,
   "id": "1d6310ee",
   "metadata": {},
   "outputs": [
    {
     "name": "stdout",
     "output_type": "stream",
     "text": [
      "(0, 1, 2) {2} 1\n",
      "(0, 1, 3) set() 0\n",
      "(0, 1, 4) set() 0\n",
      "(0, 1, 5) {5} 1\n",
      "(0, 1, 6) set() 0\n",
      "(0, 1, 7) {7} 1\n",
      "(0, 1, 8) set() 0\n",
      "(0, 1, 9) set() 0\n",
      "(0, 2, 3) {2} 1\n",
      "(0, 2, 4) {2} 1\n",
      "(0, 2, 5) {2, 5} 2\n",
      "(0, 2, 6) {2} 1\n",
      "(0, 2, 7) {2, 7} 2\n",
      "(0, 2, 8) {2} 1\n",
      "(0, 2, 9) {2} 1\n",
      "(0, 3, 4) set() 0\n",
      "(0, 3, 5) {5} 1\n",
      "(0, 3, 6) set() 0\n",
      "(0, 3, 7) {7} 1\n",
      "(0, 3, 8) set() 0\n",
      "(0, 3, 9) set() 0\n",
      "(0, 4, 5) {5} 1\n",
      "(0, 4, 6) set() 0\n",
      "(0, 4, 7) {7} 1\n",
      "(0, 4, 8) set() 0\n",
      "(0, 4, 9) set() 0\n",
      "(0, 5, 6) {5} 1\n",
      "(0, 5, 7) {5, 7} 2\n",
      "(0, 5, 8) {5} 1\n",
      "(0, 5, 9) {5} 1\n",
      "(0, 6, 7) {7} 1\n",
      "(0, 6, 8) set() 0\n",
      "(0, 6, 9) set() 0\n",
      "(0, 7, 8) {7} 1\n",
      "(0, 7, 9) {7} 1\n",
      "(0, 8, 9) set() 0\n",
      "(1, 2, 3) {2} 1\n",
      "(1, 2, 4) {2} 1\n",
      "(1, 2, 5) {2, 5} 2\n",
      "(1, 2, 6) {2} 1\n",
      "(1, 2, 7) {2, 7} 2\n",
      "(1, 2, 8) {2} 1\n",
      "(1, 2, 9) {2} 1\n",
      "(1, 3, 4) set() 0\n",
      "(1, 3, 5) {5} 1\n",
      "(1, 3, 6) set() 0\n",
      "(1, 3, 7) {7} 1\n",
      "(1, 3, 8) set() 0\n",
      "(1, 3, 9) set() 0\n",
      "(1, 4, 5) {5} 1\n",
      "(1, 4, 6) set() 0\n",
      "(1, 4, 7) {7} 1\n",
      "(1, 4, 8) set() 0\n",
      "(1, 4, 9) set() 0\n",
      "(1, 5, 6) {5} 1\n",
      "(1, 5, 7) {5, 7} 2\n",
      "(1, 5, 8) {5} 1\n",
      "(1, 5, 9) {5} 1\n",
      "(1, 6, 7) {7} 1\n",
      "(1, 6, 8) set() 0\n",
      "(1, 6, 9) set() 0\n",
      "(1, 7, 8) {7} 1\n",
      "(1, 7, 9) {7} 1\n",
      "(1, 8, 9) set() 0\n",
      "(2, 3, 4) {2} 1\n",
      "(2, 3, 5) {2, 5} 2\n",
      "(2, 3, 6) {2} 1\n",
      "(2, 3, 7) {2, 7} 2\n",
      "(2, 3, 8) {2} 1\n",
      "(2, 3, 9) {2} 1\n",
      "(2, 4, 5) {2, 5} 2\n",
      "(2, 4, 6) {2} 1\n",
      "(2, 4, 7) {2, 7} 2\n",
      "(2, 4, 8) {2} 1\n",
      "(2, 4, 9) {2} 1\n",
      "(2, 5, 6) {2, 5} 2\n",
      "(2, 5, 7) {2, 5, 7} 3\n",
      "(2, 5, 8) {2, 5} 2\n",
      "(2, 5, 9) {2, 5} 2\n",
      "(2, 6, 7) {2, 7} 2\n",
      "(2, 6, 8) {2} 1\n",
      "(2, 6, 9) {2} 1\n",
      "(2, 7, 8) {2, 7} 2\n",
      "(2, 7, 9) {2, 7} 2\n",
      "(2, 8, 9) {2} 1\n",
      "(3, 4, 5) {5} 1\n",
      "(3, 4, 6) set() 0\n",
      "(3, 4, 7) {7} 1\n",
      "(3, 4, 8) set() 0\n",
      "(3, 4, 9) set() 0\n",
      "(3, 5, 6) {5} 1\n",
      "(3, 5, 7) {5, 7} 2\n",
      "(3, 5, 8) {5} 1\n",
      "(3, 5, 9) {5} 1\n",
      "(3, 6, 7) {7} 1\n",
      "(3, 6, 8) set() 0\n",
      "(3, 6, 9) set() 0\n",
      "(3, 7, 8) {7} 1\n",
      "(3, 7, 9) {7} 1\n",
      "(3, 8, 9) set() 0\n",
      "(4, 5, 6) {5} 1\n",
      "(4, 5, 7) {5, 7} 2\n",
      "(4, 5, 8) {5} 1\n",
      "(4, 5, 9) {5} 1\n",
      "(4, 6, 7) {7} 1\n",
      "(4, 6, 8) set() 0\n",
      "(4, 6, 9) set() 0\n",
      "(4, 7, 8) {7} 1\n",
      "(4, 7, 9) {7} 1\n",
      "(4, 8, 9) set() 0\n",
      "(5, 6, 7) {5, 7} 2\n",
      "(5, 6, 8) {5} 1\n",
      "(5, 6, 9) {5} 1\n",
      "(5, 7, 8) {5, 7} 2\n",
      "(5, 7, 9) {5, 7} 2\n",
      "(5, 8, 9) {5} 1\n",
      "(6, 7, 8) {7} 1\n",
      "(6, 7, 9) {7} 1\n",
      "(6, 8, 9) set() 0\n",
      "(7, 8, 9) {7} 1\n"
     ]
    }
   ],
   "source": [
    "no_overlaps = []\n",
    "\n",
    "for comb in combs:\n",
    "  # Turn comb into a set.\n",
    "  s1 = set(comb)\n",
    "  # Turn labels_milk into a set.\n",
    "  s2 = set(labels_n)\n",
    "  # Figure out where they overlap.\n",
    "  overlap = s1.intersection(s2)\n",
    "  # Show the combination and the overlap.\n",
    "  print(comb, overlap, len(overlap))\n",
    "  # Append overlap to no_overlaps.\n",
    "  no_overlaps.append(len(overlap))"
   ]
  },
  {
   "cell_type": "code",
   "execution_count": 7,
   "id": "8291138e",
   "metadata": {},
   "outputs": [
    {
     "data": {
      "text/plain": [
       "(array([0, 1, 2, 3]), array([35, 63, 21,  1], dtype=int64))"
      ]
     },
     "execution_count": 7,
     "metadata": {},
     "output_type": "execute_result"
    }
   ],
   "source": [
    "# Count the number of times each overlap occurs.\n",
    "counts = np.unique(no_overlaps, return_counts=True)\n",
    "\n",
    "# Show.\n",
    "counts"
   ]
  },
  {
   "cell_type": "code",
   "execution_count": 8,
   "id": "05ed4aae",
   "metadata": {},
   "outputs": [
    {
     "data": {
      "text/plain": [
       "<BarContainer object of 4 artists>"
      ]
     },
     "execution_count": 8,
     "metadata": {},
     "output_type": "execute_result"
    },
    {
     "data": {
      "image/png": "[encoded data removed]",
      "text/plain": [
       "<Figure size 1200x800 with 1 Axes>"
      ]
     },
     "metadata": {},
     "output_type": "display_data"
    }
   ],
   "source": [
    "# Create a figure.\n",
    "fig, ax = plt.subplots(figsize=(12, 8))\n",
    "\n",
    "# Bar chart.\n",
    "ax.bar(counts[0], counts[1])"
   ]
  },
  {
   "cell_type": "code",
   "execution_count": 1,
   "id": "b1364741",
   "metadata": {},
   "outputs": [
    {
     "data": {
      "text/plain": [
       "29.166666666666668"
      ]
     },
     "execution_count": 1,
     "metadata": {},
     "output_type": "execute_result"
    }
   ],
   "source": [
    "(35)/120*100"
   ]
  },
  {
   "cell_type": "code",
   "execution_count": 2,
   "id": "1d522419",
   "metadata": {},
   "outputs": [
    {
     "data": {
      "text/plain": [
       "52.5"
      ]
     },
     "execution_count": 2,
     "metadata": {},
     "output_type": "execute_result"
    }
   ],
   "source": [
    "(63)/120*100"
   ]
  },
  {
   "cell_type": "code",
   "execution_count": 4,
   "id": "a5ced698",
   "metadata": {},
   "outputs": [
    {
     "data": {
      "text/plain": [
       "17.5"
      ]
     },
     "execution_count": 4,
     "metadata": {},
     "output_type": "execute_result"
    }
   ],
   "source": [
    "(20+1)/120*100"
   ]
  },
  {
   "cell_type": "code",
   "execution_count": 12,
   "id": "57b57fec",
   "metadata": {},
   "outputs": [
    {
     "data": {
      "text/plain": [
       "0.8333333333333334"
      ]
     },
     "execution_count": 12,
     "metadata": {},
     "output_type": "execute_result"
    }
   ],
   "source": [
    "1/120*100"
   ]
  },
  {
   "cell_type": "markdown",
   "id": "998213db",
   "metadata": {},
   "source": [
    "## Problem 2: Normal Distribution\n",
    "\n",
    "Task:\n",
    "1.  Evaluate whether numpy.random.standard_normal() generates values from a true normal distribution by generating a sample of 100,000 values. \n",
    "2.  Then use scipy.stats.shapiro() to test whether the sample comes from a normal distribution. Explain the test results and output clearly. \n",
    "3. Create a histogram of sample and overlay the probability density function (PDF) of the standard normal distribution on the histogram. Clearly explain your reasoning and code."
   ]
  },
  {
   "cell_type": "markdown",
   "id": "af75361d",
   "metadata": {},
   "source": [
    "https://numpy.org/doc/2.2/reference/random/generated/numpy.random.standard_normal.html#numpy.random.standard_normal"
   ]
  },
  {
   "cell_type": "code",
   "execution_count": 19,
   "id": "3a66397c",
   "metadata": {},
   "outputs": [
    {
     "data": {
      "text/plain": [
       "array([-0.30165369,  0.18868277,  0.12524055, ...,  1.69522046,\n",
       "        0.28050407,  0.18540875])"
      ]
     },
     "execution_count": 19,
     "metadata": {},
     "output_type": "execute_result"
    }
   ],
   "source": [
    "# Generating the sample\n",
    "data=np.random.standard_normal(100000)\n",
    "data"
   ]
  },
  {
   "cell_type": "code",
   "execution_count": 20,
   "id": "a3795399",
   "metadata": {},
   "outputs": [
    {
     "data": {
      "text/plain": [
       "(array([1.000e+00, 0.000e+00, 0.000e+00, 0.000e+00, 3.000e+00, 0.000e+00,\n",
       "        3.000e+00, 3.000e+00, 1.000e+00, 2.000e+00, 8.000e+00, 1.000e+01,\n",
       "        6.000e+00, 2.200e+01, 2.000e+01, 2.400e+01, 3.900e+01, 6.200e+01,\n",
       "        7.100e+01, 8.600e+01, 1.090e+02, 1.270e+02, 1.810e+02, 2.160e+02,\n",
       "        2.500e+02, 3.120e+02, 3.910e+02, 4.360e+02, 5.470e+02, 6.780e+02,\n",
       "        7.320e+02, 9.020e+02, 1.041e+03, 1.188e+03, 1.352e+03, 1.547e+03,\n",
       "        1.685e+03, 1.808e+03, 2.017e+03, 2.181e+03, 2.381e+03, 2.607e+03,\n",
       "        2.796e+03, 2.800e+03, 3.044e+03, 3.303e+03, 3.343e+03, 3.365e+03,\n",
       "        3.530e+03, 3.554e+03, 3.533e+03, 3.464e+03, 3.549e+03, 3.339e+03,\n",
       "        3.320e+03, 3.205e+03, 3.001e+03, 2.896e+03, 2.690e+03, 2.562e+03,\n",
       "        2.389e+03, 2.174e+03, 2.006e+03, 1.877e+03, 1.662e+03, 1.447e+03,\n",
       "        1.190e+03, 1.062e+03, 9.560e+02, 8.250e+02, 7.180e+02, 6.290e+02,\n",
       "        4.850e+02, 4.320e+02, 3.670e+02, 2.950e+02, 2.310e+02, 2.160e+02,\n",
       "        1.620e+02, 1.360e+02, 8.900e+01, 7.100e+01, 5.800e+01, 5.600e+01,\n",
       "        3.200e+01, 2.000e+01, 2.100e+01, 1.100e+01, 1.200e+01, 7.000e+00,\n",
       "        5.000e+00, 4.000e+00, 3.000e+00, 2.000e+00, 4.000e+00, 1.000e+00,\n",
       "        1.000e+00, 0.000e+00, 0.000e+00, 1.000e+00]),\n",
       " array([-4.44739667, -4.35892555, -4.27045442, -4.18198329, -4.09351217,\n",
       "        -4.00504104, -3.91656991, -3.82809878, -3.73962766, -3.65115653,\n",
       "        -3.5626854 , -3.47421428, -3.38574315, -3.29727202, -3.20880089,\n",
       "        -3.12032977, -3.03185864, -2.94338751, -2.85491638, -2.76644526,\n",
       "        -2.67797413, -2.589503  , -2.50103188, -2.41256075, -2.32408962,\n",
       "        -2.23561849, -2.14714737, -2.05867624, -1.97020511, -1.88173399,\n",
       "        -1.79326286, -1.70479173, -1.6163206 , -1.52784948, -1.43937835,\n",
       "        -1.35090722, -1.26243609, -1.17396497, -1.08549384, -0.99702271,\n",
       "        -0.90855159, -0.82008046, -0.73160933, -0.6431382 , -0.55466708,\n",
       "        -0.46619595, -0.37772482, -0.2892537 , -0.20078257, -0.11231144,\n",
       "        -0.02384031,  0.06463081,  0.15310194,  0.24157307,  0.3300442 ,\n",
       "         0.41851532,  0.50698645,  0.59545758,  0.6839287 ,  0.77239983,\n",
       "         0.86087096,  0.94934209,  1.03781321,  1.12628434,  1.21475547,\n",
       "         1.3032266 ,  1.39169772,  1.48016885,  1.56863998,  1.6571111 ,\n",
       "         1.74558223,  1.83405336,  1.92252449,  2.01099561,  2.09946674,\n",
       "         2.18793787,  2.27640899,  2.36488012,  2.45335125,  2.54182238,\n",
       "         2.6302935 ,  2.71876463,  2.80723576,  2.89570689,  2.98417801,\n",
       "         3.07264914,  3.16112027,  3.24959139,  3.33806252,  3.42653365,\n",
       "         3.51500478,  3.6034759 ,  3.69194703,  3.78041816,  3.86888928,\n",
       "         3.95736041,  4.04583154,  4.13430267,  4.22277379,  4.31124492,\n",
       "         4.39971605]),\n",
       " <BarContainer object of 100 artists>)"
      ]
     },
     "execution_count": 20,
     "metadata": {},
     "output_type": "execute_result"
    },
    {
     "data": {
      "image/png": "[encoded data removed]",
      "text/plain": [
       "<Figure size 1200x800 with 1 Axes>"
      ]
     },
     "metadata": {},
     "output_type": "display_data"
    }
   ],
   "source": [
    "fig, ax = plt.subplots(figsize=(12, 8))\n",
    "ax.hist(data, bins=100,  color='green')"
   ]
  },
  {
   "cell_type": "markdown",
   "id": "7287027d",
   "metadata": {},
   "source": [
    "https://docs.scipy.org/doc/scipy/reference/generated/scipy.stats.shapiro.html#shapiro"
   ]
  },
  {
   "cell_type": "code",
   "execution_count": null,
   "id": "6fe895c0",
   "metadata": {},
   "outputs": [
    {
     "name": "stderr",
     "output_type": "stream",
     "text": [
      "c:\\Users\\Lucia\\anaconda3\\Lib\\site-packages\\scipy\\stats\\_morestats.py:1816: UserWarning: p-value may not be accurate for N > 5000.\n",
      "  warnings.warn(\"p-value may not be accurate for N > 5000.\")\n"
     ]
    },
    {
     "data": {
      "text/plain": [
       "ShapiroResult(statistic=0.9999944567680359, pvalue=0.9999997019767761)"
      ]
     },
     "execution_count": 16,
     "metadata": {},
     "output_type": "execute_result"
    }
   ],
   "source": [
    "stats.shapiro(data)"
   ]
  },
  {
   "cell_type": "markdown",
   "id": "635f682c",
   "metadata": {},
   "source": [
    "https://docs.scipy.org/doc/scipy/reference/generated/scipy.stats.kstest.html#kstest"
   ]
  },
  {
   "cell_type": "code",
   "execution_count": 8,
   "id": "7542128b",
   "metadata": {},
   "outputs": [
    {
     "data": {
      "text/plain": [
       "KstestResult(statistic=0.002407558965180301, pvalue=0.6072360310355294, statistic_location=0.7900901568330306, statistic_sign=1)"
      ]
     },
     "execution_count": 8,
     "metadata": {},
     "output_type": "execute_result"
    }
   ],
   "source": [
    "stats.kstest(data, 'norm')"
   ]
  },
  {
   "cell_type": "markdown",
   "id": "9aa3953e",
   "metadata": {},
   "source": [
    "## Problem 3: t-Tests\n",
    "\n",
    "Tasks:\n",
    "Comparision of the resting heart rates of smokers and non-smokers by t-statistic using Python without scipy or statsmodels. Then comparing it to the value given by scipy.stats."
   ]
  },
  {
   "cell_type": "markdown",
   "id": "f505bd14",
   "metadata": {},
   "source": [
    "#### Data\n",
    "Patient ID\tSmokes\tResting Heart Rate\\\n",
    "0&emsp;&emsp;&emsp;&emsp;Yes&emsp;&emsp;&emsp;&emsp;81\\\n",
    "1&emsp;&emsp;&emsp;&emsp;No&emsp;&emsp;&emsp;&emsp;68\\\n",
    "2&emsp;&emsp;&emsp;&emsp;Yes&emsp;&emsp;&emsp;&emsp;69\\\n",
    "3&emsp;&emsp;&emsp;&emsp;Yes&emsp;&emsp;&emsp;&emsp;76\\\n",
    "4&emsp;&emsp;&emsp;&emsp;No&emsp;&emsp;&emsp;&emsp;74\\\n",
    "5&emsp;&emsp;&emsp;&emsp;Yes&emsp;&emsp;&emsp;&emsp;77\\\n",
    "6&emsp;&emsp;&emsp;&emsp;Yes&emsp;&emsp;&emsp;&emsp;79\\\n",
    "7&emsp;&emsp;&emsp;&emsp;No&emsp;&emsp;&emsp;&emsp;75\\\n",
    "8&emsp;&emsp;&emsp;&emsp;Yes&emsp;&emsp;&emsp;&emsp;61\\\n",
    "9&emsp;&emsp;&emsp;&emsp;No&emsp;&emsp;&emsp;&emsp;68\\\n",
    "10&emsp;&emsp;&emsp;&ensp;Yes&emsp;&emsp;&emsp;&emsp;74\\\n",
    "11&emsp;&emsp;&emsp;&ensp;No&emsp;&emsp;&emsp;&emsp;72\\\n",
    "12&emsp;&emsp;&emsp;&ensp;Yes&emsp;&emsp;&emsp;&emsp;73\\\n",
    "13&emsp;&emsp;&emsp;&ensp;Yes&emsp;&emsp;&emsp;&emsp;70\\\n",
    "14&emsp;&emsp;&emsp;&ensp;No&emsp;&emsp;&emsp;&emsp;67\\\n",
    "15&emsp;&emsp;&emsp;&ensp;No&emsp;&emsp;&emsp;&emsp;67"
   ]
  },
  {
   "cell_type": "markdown",
   "id": "a8d8e87e",
   "metadata": {},
   "source": [
    "As data to compare are unpaired samples, I chose independent t-test. "
   ]
  },
  {
   "cell_type": "code",
   "execution_count": 4,
   "id": "4153feb3",
   "metadata": {},
   "outputs": [],
   "source": [
    "# Arrays \n",
    "smokers = [81, 69, 76, 77, 79, 61, 74, 73, 70]\n",
    "nonsmokers = [68, 74, 75, 68, 72, 67, 67]"
   ]
  },
  {
   "cell_type": "markdown",
   "id": "f4d79c3a",
   "metadata": {},
   "source": [
    "The arrays to compare are not of the same size. There are 9 samples in array smokers and 7 in array nonsmokers. I decide to check normal distribution of values with Shapiro-Wilk testas as this method works well for small datasets. Minimum of samples for Shapiro-Wilk test is 3."
   ]
  },
  {
   "cell_type": "code",
   "execution_count": 5,
   "id": "e4f61dd1",
   "metadata": {},
   "outputs": [
    {
     "data": {
      "text/plain": [
       "ShapiroResult(statistic=0.9473088979721069, pvalue=0.6605566143989563)"
      ]
     },
     "execution_count": 5,
     "metadata": {},
     "output_type": "execute_result"
    }
   ],
   "source": [
    "stats.shapiro(smokers)"
   ]
  },
  {
   "cell_type": "code",
   "execution_count": 6,
   "id": "62e898b0",
   "metadata": {},
   "outputs": [
    {
     "data": {
      "text/plain": [
       "ShapiroResult(statistic=0.8303568959236145, pvalue=0.08064436167478561)"
      ]
     },
     "execution_count": 6,
     "metadata": {},
     "output_type": "execute_result"
    }
   ],
   "source": [
    "stats.shapiro(nonsmokers)"
   ]
  },
  {
   "cell_type": "markdown",
   "id": "a31beb7c",
   "metadata": {},
   "source": [
    "I can assume that data in both arrays are normally distributed. As there is 2 more samples in smokers group than in nonsmoker I am going to use modified t-test - Welch's t-Test"
   ]
  },
  {
   "cell_type": "code",
   "execution_count": 7,
   "id": "f3cb5fad",
   "metadata": {},
   "outputs": [
    {
     "data": {
      "text/plain": [
       "Ttest_indResult(statistic=1.328165641371784, pvalue=0.20694631459381652)"
      ]
     },
     "execution_count": 7,
     "metadata": {},
     "output_type": "execute_result"
    }
   ],
   "source": [
    "# Welch's t-Test\n",
    "stats.ttest_ind(smokers, nonsmokers, equal_var = False)"
   ]
  }
 ],
 "metadata": {
  "kernelspec": {
   "display_name": "base",
   "language": "python",
   "name": "python3"
  },
  "language_info": {
   "codemirror_mode": {
    "name": "ipython",
    "version": 3
   },
   "file_extension": ".py",
   "mimetype": "text/x-python",
   "name": "python",
   "nbconvert_exporter": "python",
   "pygments_lexer": "ipython3",
   "version": "3.11.5"
  }
 },
 "nbformat": 4,
 "nbformat_minor": 5
}
