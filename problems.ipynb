{
 "cells": [
  {
   "cell_type": "markdown",
   "id": "d506befc",
   "metadata": {},
   "source": [
    "# Problems"
   ]
  },
  {
   "cell_type": "code",
   "execution_count": 1,
   "id": "c7b95e52",
   "metadata": {},
   "outputs": [],
   "source": [
    "import math as math\n",
    "# https://docs.python.org/3/library/math.html\n",
    "import itertools\n",
    "# https://docs.python.org/3/library/itertools.html\n",
    "import random\n",
    "# https://docs.python.org/3/library/random.html\n",
    "import numpy as np\n",
    "# https://numpy.org/doc/stable/\n",
    "import matplotlib.pyplot as plt\n",
    "# https://matplotlib.org/stable/contents.html\n",
    "import seaborn as sns\n",
    "# https://seaborn.pydata.org/\n",
    "import pandas as pd\n",
    "# https://pandas.pydata.org/pandas-docs/stable/index.html\n",
    "import scipy.stats as stats\n",
    "# https://docs.scipy.org/doc/scipy/reference/stats.html\n",
    "from collections import Counter\n",
    "# https://docs.python.org/3/library/collections.html#collections.Counter"
   ]
  },
  {
   "cell_type": "markdown",
   "id": "a659138d",
   "metadata": {},
   "source": [
    "## Problem 1 - Permutations and Combinations\n",
    "\n",
    "The lady tasting tea is an experiment devised by British polymath Ronald Fisher in 1935. It was loosely based on the claim  of Fisher's acquaintance, Muriel Bristol, who said she could tell whether milk or tea was poured first into a cup. The Fisher's intention was not about tea, but about designing an experiment to test a claim fairly, with factor of randomness minimized, so the claim can be proved or disaproved on objective basis.\\\n",
    "The null hypothesis of the experiment is that the taster has no special ability and is simply guessing at random.\n",
    "The alternative hypothesis is that the tester has that special ability she/he/they claims. The probability of guessing correctly at random is calculated, and then compared to a statistical threshold (usually 5%). If the taster correctly recognised a number of cups that would be highly unlikely guessed at random ( usually with probability less than 5%), then the null hypothesis could be rejected.\\\n",
    "https://en.wikipedia.org/wiki/Lady_tasting_tea"
   ]
  },
  {
   "cell_type": "markdown",
   "id": "52975ba1",
   "metadata": {},
   "source": [
    "##### Calculation of probability of selecting 0, 1, 2, 3 cups from 10 randomly"
   ]
  },
  {
   "cell_type": "markdown",
   "id": "9f9f4681",
   "metadata": {},
   "source": [
    "First I need to count number of ways how to choose 3 cups from 10. Factorial number! is a number of ways how to arrange certain number of objects. Binomial coefficient formula gives us number of ways of selecting k objects from n objects without replacement and without order.\n",
    "\n",
    "$$ \\binom{n}{k} = \\frac{n!}{k!(n-k)!} $$"
   ]
  },
  {
   "cell_type": "code",
   "execution_count": 2,
   "id": "8f5b15ea",
   "metadata": {},
   "outputs": [
    {
     "data": {
      "text/plain": [
       "120.0"
      ]
     },
     "execution_count": 2,
     "metadata": {},
     "output_type": "execute_result"
    }
   ],
   "source": [
    "# Using math.factorial\n",
    "n=10\n",
    "k=3\n",
    "ways = math.factorial(n) / (math.factorial(k) * math.factorial(n - k))\n",
    "ways"
   ]
  },
  {
   "cell_type": "code",
   "execution_count": 5,
   "id": "adf7aa56",
   "metadata": {},
   "outputs": [
    {
     "data": {
      "text/plain": [
       "[0, 1, 2, 3, 4, 5, 6, 7, 8, 9]"
      ]
     },
     "execution_count": 5,
     "metadata": {},
     "output_type": "execute_result"
    }
   ],
   "source": [
    "cups = list(range(n))\n",
    "labels"
   ]
  },
  {
   "cell_type": "code",
   "execution_count": 6,
   "id": "e31cab13",
   "metadata": {},
   "outputs": [
    {
     "data": {
      "text/plain": [
       "120"
      ]
     },
     "execution_count": 6,
     "metadata": {},
     "output_type": "execute_result"
    }
   ],
   "source": [
    "# Or itertools.combinations\n",
    "combs_cups = list(itertools.combinations(cups, k))\n",
    "len(combs)"
   ]
  },
  {
   "cell_type": "markdown",
   "id": "64334420",
   "metadata": {},
   "source": [
    "There are 120 ways of choose 3 cups from 10 cups."
   ]
  },
  {
   "cell_type": "markdown",
   "id": "d0963835",
   "metadata": {},
   "source": [
    "Calculation of probability with hypergeometric formula\n",
    "\n",
    "$$\n",
    "P(\\text{correct\\_cups}) =\n",
    "\\frac{\\binom{\\text{special\\_cups}}{\\text{correct\\_cups}} \\cdot \\binom{\\text{total\\_cups} - \\text{special\\_cups}}{\\text{cups\\_chosen} - \\text{correct\\_cups}}}\n",
    "{\\binom{\\text{total\\_cups}}{\\text{cups\\_chosen}}}\n",
    "$$\n",
    "\n",
    "\n",
    "https://www.youtube.com/watch?v=uzN7U88KSx8"
   ]
  },
  {
   "cell_type": "code",
   "execution_count": 7,
   "id": "eb083a1b",
   "metadata": {},
   "outputs": [
    {
     "data": {
      "text/plain": [
       "29.166666666666668"
      ]
     },
     "execution_count": 7,
     "metadata": {},
     "output_type": "execute_result"
    }
   ],
   "source": [
    "prob_0 = (math.comb(3, 0) * math.comb(10 - 3, 3 - 0)) / math.comb(10, 3)\n",
    "prob_0 * 100"
   ]
  },
  {
   "cell_type": "markdown",
   "id": "b2f07a7b",
   "metadata": {},
   "source": [
    "29,16 % probability of chosing no cup right."
   ]
  },
  {
   "cell_type": "code",
   "execution_count": 8,
   "id": "bcefc7cf",
   "metadata": {},
   "outputs": [
    {
     "data": {
      "text/plain": [
       "52.5"
      ]
     },
     "execution_count": 8,
     "metadata": {},
     "output_type": "execute_result"
    }
   ],
   "source": [
    "prob_1 = (math.comb(3, 1) * math.comb(10 - 3, 3 - 1)) / math.comb(10, 3)\n",
    "prob_1 * 100"
   ]
  },
  {
   "cell_type": "markdown",
   "id": "2d8a7e75",
   "metadata": {},
   "source": [
    "52.5 % probability of chosing 1 cup right."
   ]
  },
  {
   "cell_type": "code",
   "execution_count": 9,
   "id": "6cbfaf2c",
   "metadata": {},
   "outputs": [
    {
     "data": {
      "text/plain": [
       "17.5"
      ]
     },
     "execution_count": 9,
     "metadata": {},
     "output_type": "execute_result"
    }
   ],
   "source": [
    "prob_2 = (math.comb(3, 2) * math.comb(10 - 3, 3 - 2)) / math.comb(10, 3)\n",
    "prob_2 * 100"
   ]
  },
  {
   "cell_type": "markdown",
   "id": "c70dd50e",
   "metadata": {},
   "source": [
    "17.5 % probability of chosing 2 cups right."
   ]
  },
  {
   "cell_type": "code",
   "execution_count": 11,
   "id": "34562737",
   "metadata": {},
   "outputs": [
    {
     "data": {
      "text/plain": [
       "0.8333333333333334"
      ]
     },
     "execution_count": 11,
     "metadata": {},
     "output_type": "execute_result"
    }
   ],
   "source": [
    "prob_3 = (math.comb(3, 3) * math.comb(10 - 3, 3 - 3)) / math.comb(10, 3)\n",
    "prob_3 * 100"
   ]
  },
  {
   "cell_type": "markdown",
   "id": "0df33e97",
   "metadata": {},
   "source": [
    "0.83 % probability of chosing all 3 cups right."
   ]
  },
  {
   "cell_type": "markdown",
   "id": "d1125041",
   "metadata": {},
   "source": [
    "##### Simulation"
   ]
  },
  {
   "cell_type": "code",
   "execution_count": 13,
   "id": "1d6310ee",
   "metadata": {},
   "outputs": [
    {
     "name": "stdout",
     "output_type": "stream",
     "text": [
      "(0, 1, 2) set() 0\n",
      "(0, 1, 3) {3} 1\n",
      "(0, 1, 4) set() 0\n",
      "(0, 1, 5) set() 0\n",
      "(0, 1, 6) {6} 1\n",
      "(0, 1, 7) set() 0\n",
      "(0, 1, 8) set() 0\n",
      "(0, 1, 9) {9} 1\n",
      "(0, 2, 3) {3} 1\n",
      "(0, 2, 4) set() 0\n",
      "(0, 2, 5) set() 0\n",
      "(0, 2, 6) {6} 1\n",
      "(0, 2, 7) set() 0\n",
      "(0, 2, 8) set() 0\n",
      "(0, 2, 9) {9} 1\n",
      "(0, 3, 4) {3} 1\n",
      "(0, 3, 5) {3} 1\n",
      "(0, 3, 6) {3, 6} 2\n",
      "(0, 3, 7) {3} 1\n",
      "(0, 3, 8) {3} 1\n",
      "(0, 3, 9) {9, 3} 2\n",
      "(0, 4, 5) set() 0\n",
      "(0, 4, 6) {6} 1\n",
      "(0, 4, 7) set() 0\n",
      "(0, 4, 8) set() 0\n",
      "(0, 4, 9) {9} 1\n",
      "(0, 5, 6) {6} 1\n",
      "(0, 5, 7) set() 0\n",
      "(0, 5, 8) set() 0\n",
      "(0, 5, 9) {9} 1\n",
      "(0, 6, 7) {6} 1\n",
      "(0, 6, 8) {6} 1\n",
      "(0, 6, 9) {9, 6} 2\n",
      "(0, 7, 8) set() 0\n",
      "(0, 7, 9) {9} 1\n",
      "(0, 8, 9) {9} 1\n",
      "(1, 2, 3) {3} 1\n",
      "(1, 2, 4) set() 0\n",
      "(1, 2, 5) set() 0\n",
      "(1, 2, 6) {6} 1\n",
      "(1, 2, 7) set() 0\n",
      "(1, 2, 8) set() 0\n",
      "(1, 2, 9) {9} 1\n",
      "(1, 3, 4) {3} 1\n",
      "(1, 3, 5) {3} 1\n",
      "(1, 3, 6) {3, 6} 2\n",
      "(1, 3, 7) {3} 1\n",
      "(1, 3, 8) {3} 1\n",
      "(1, 3, 9) {9, 3} 2\n",
      "(1, 4, 5) set() 0\n",
      "(1, 4, 6) {6} 1\n",
      "(1, 4, 7) set() 0\n",
      "(1, 4, 8) set() 0\n",
      "(1, 4, 9) {9} 1\n",
      "(1, 5, 6) {6} 1\n",
      "(1, 5, 7) set() 0\n",
      "(1, 5, 8) set() 0\n",
      "(1, 5, 9) {9} 1\n",
      "(1, 6, 7) {6} 1\n",
      "(1, 6, 8) {6} 1\n",
      "(1, 6, 9) {9, 6} 2\n",
      "(1, 7, 8) set() 0\n",
      "(1, 7, 9) {9} 1\n",
      "(1, 8, 9) {9} 1\n",
      "(2, 3, 4) {3} 1\n",
      "(2, 3, 5) {3} 1\n",
      "(2, 3, 6) {3, 6} 2\n",
      "(2, 3, 7) {3} 1\n",
      "(2, 3, 8) {3} 1\n",
      "(2, 3, 9) {9, 3} 2\n",
      "(2, 4, 5) set() 0\n",
      "(2, 4, 6) {6} 1\n",
      "(2, 4, 7) set() 0\n",
      "(2, 4, 8) set() 0\n",
      "(2, 4, 9) {9} 1\n",
      "(2, 5, 6) {6} 1\n",
      "(2, 5, 7) set() 0\n",
      "(2, 5, 8) set() 0\n",
      "(2, 5, 9) {9} 1\n",
      "(2, 6, 7) {6} 1\n",
      "(2, 6, 8) {6} 1\n",
      "(2, 6, 9) {9, 6} 2\n",
      "(2, 7, 8) set() 0\n",
      "(2, 7, 9) {9} 1\n",
      "(2, 8, 9) {9} 1\n",
      "(3, 4, 5) {3} 1\n",
      "(3, 4, 6) {3, 6} 2\n",
      "(3, 4, 7) {3} 1\n",
      "(3, 4, 8) {3} 1\n",
      "(3, 4, 9) {9, 3} 2\n",
      "(3, 5, 6) {3, 6} 2\n",
      "(3, 5, 7) {3} 1\n",
      "(3, 5, 8) {3} 1\n",
      "(3, 5, 9) {9, 3} 2\n",
      "(3, 6, 7) {3, 6} 2\n",
      "(3, 6, 8) {3, 6} 2\n",
      "(3, 6, 9) {9, 3, 6} 3\n",
      "(3, 7, 8) {3} 1\n",
      "(3, 7, 9) {9, 3} 2\n",
      "(3, 8, 9) {9, 3} 2\n",
      "(4, 5, 6) {6} 1\n",
      "(4, 5, 7) set() 0\n",
      "(4, 5, 8) set() 0\n",
      "(4, 5, 9) {9} 1\n",
      "(4, 6, 7) {6} 1\n",
      "(4, 6, 8) {6} 1\n",
      "(4, 6, 9) {9, 6} 2\n",
      "(4, 7, 8) set() 0\n",
      "(4, 7, 9) {9} 1\n",
      "(4, 8, 9) {9} 1\n",
      "(5, 6, 7) {6} 1\n",
      "(5, 6, 8) {6} 1\n",
      "(5, 6, 9) {9, 6} 2\n",
      "(5, 7, 8) set() 0\n",
      "(5, 7, 9) {9} 1\n",
      "(5, 8, 9) {9} 1\n",
      "(6, 7, 8) {6} 1\n",
      "(6, 7, 9) {9, 6} 2\n",
      "(6, 8, 9) {9, 6} 2\n",
      "(7, 8, 9) {9} 1\n"
     ]
    }
   ],
   "source": [
    "labels_n = random.sample(cups, 3)\n",
    "\n",
    "no_overlaps = []\n",
    "\n",
    "for comb in combs:\n",
    "  # Turn comb into a set.\n",
    "  s1 = set(comb)\n",
    "  # Turn labels_milk into a set.\n",
    "  s2 = set(labels_n)\n",
    "  # Where they overlap.\n",
    "  overlap = s1.intersection(s2)\n",
    "  # Combination and the overlap.\n",
    "  print(comb, overlap, len(overlap))\n",
    "  # Append overlap to no_overlaps.\n",
    "  no_overlaps.append(len(overlap))"
   ]
  },
  {
   "cell_type": "code",
   "execution_count": 14,
   "id": "05ed4aae",
   "metadata": {},
   "outputs": [
    {
     "ename": "TypeError",
     "evalue": "'set' object is not subscriptable",
     "output_type": "error",
     "traceback": [
      "\u001b[1;31m---------------------------------------------------------------------------\u001b[0m",
      "\u001b[1;31mTypeError\u001b[0m                                 Traceback (most recent call last)",
      "Cell \u001b[1;32mIn[14], line 5\u001b[0m\n\u001b[0;32m      2\u001b[0m fig, ax \u001b[38;5;241m=\u001b[39m plt\u001b[38;5;241m.\u001b[39msubplots(figsize\u001b[38;5;241m=\u001b[39m(\u001b[38;5;241m12\u001b[39m, \u001b[38;5;241m8\u001b[39m))\n\u001b[0;32m      4\u001b[0m \u001b[38;5;66;03m# Bar chart.\u001b[39;00m\n\u001b[1;32m----> 5\u001b[0m sns\u001b[38;5;241m.\u001b[39mbarplot(overlap, orient\u001b[38;5;241m=\u001b[39m\u001b[38;5;124m'\u001b[39m\u001b[38;5;124mv\u001b[39m\u001b[38;5;124m'\u001b[39m, ax\u001b[38;5;241m=\u001b[39max, color\u001b[38;5;241m=\u001b[39m\u001b[38;5;124m'\u001b[39m\u001b[38;5;124mskyblue\u001b[39m\u001b[38;5;124m'\u001b[39m)\n",
      "File \u001b[1;32mc:\\Users\\Lucia\\anaconda3\\Lib\\site-packages\\seaborn\\categorical.py:2755\u001b[0m, in \u001b[0;36mbarplot\u001b[1;34m(data, x, y, hue, order, hue_order, estimator, errorbar, n_boot, units, seed, orient, color, palette, saturation, width, errcolor, errwidth, capsize, dodge, ci, ax, **kwargs)\u001b[0m\n\u001b[0;32m   2752\u001b[0m \u001b[38;5;28;01mif\u001b[39;00m estimator \u001b[38;5;129;01mis\u001b[39;00m \u001b[38;5;28mlen\u001b[39m:\n\u001b[0;32m   2753\u001b[0m     estimator \u001b[38;5;241m=\u001b[39m \u001b[38;5;124m\"\u001b[39m\u001b[38;5;124msize\u001b[39m\u001b[38;5;124m\"\u001b[39m\n\u001b[1;32m-> 2755\u001b[0m plotter \u001b[38;5;241m=\u001b[39m _BarPlotter(x, y, hue, data, order, hue_order,\n\u001b[0;32m   2756\u001b[0m                       estimator, errorbar, n_boot, units, seed,\n\u001b[0;32m   2757\u001b[0m                       orient, color, palette, saturation,\n\u001b[0;32m   2758\u001b[0m                       width, errcolor, errwidth, capsize, dodge)\n\u001b[0;32m   2760\u001b[0m \u001b[38;5;28;01mif\u001b[39;00m ax \u001b[38;5;129;01mis\u001b[39;00m \u001b[38;5;28;01mNone\u001b[39;00m:\n\u001b[0;32m   2761\u001b[0m     ax \u001b[38;5;241m=\u001b[39m plt\u001b[38;5;241m.\u001b[39mgca()\n",
      "File \u001b[1;32mc:\\Users\\Lucia\\anaconda3\\Lib\\site-packages\\seaborn\\categorical.py:1530\u001b[0m, in \u001b[0;36m_BarPlotter.__init__\u001b[1;34m(self, x, y, hue, data, order, hue_order, estimator, errorbar, n_boot, units, seed, orient, color, palette, saturation, width, errcolor, errwidth, capsize, dodge)\u001b[0m\n\u001b[0;32m   1525\u001b[0m \u001b[38;5;28;01mdef\u001b[39;00m \u001b[38;5;21m__init__\u001b[39m(\u001b[38;5;28mself\u001b[39m, x, y, hue, data, order, hue_order,\n\u001b[0;32m   1526\u001b[0m              estimator, errorbar, n_boot, units, seed,\n\u001b[0;32m   1527\u001b[0m              orient, color, palette, saturation, width,\n\u001b[0;32m   1528\u001b[0m              errcolor, errwidth, capsize, dodge):\n\u001b[0;32m   1529\u001b[0m \u001b[38;5;250m    \u001b[39m\u001b[38;5;124;03m\"\"\"Initialize the plotter.\"\"\"\u001b[39;00m\n\u001b[1;32m-> 1530\u001b[0m     \u001b[38;5;28mself\u001b[39m\u001b[38;5;241m.\u001b[39mestablish_variables(x, y, hue, data, orient,\n\u001b[0;32m   1531\u001b[0m                              order, hue_order, units)\n\u001b[0;32m   1532\u001b[0m     \u001b[38;5;28mself\u001b[39m\u001b[38;5;241m.\u001b[39mestablish_colors(color, palette, saturation)\n\u001b[0;32m   1533\u001b[0m     \u001b[38;5;28mself\u001b[39m\u001b[38;5;241m.\u001b[39mestimate_statistic(estimator, errorbar, n_boot, seed)\n",
      "File \u001b[1;32mc:\\Users\\Lucia\\anaconda3\\Lib\\site-packages\\seaborn\\categorical.py:506\u001b[0m, in \u001b[0;36m_CategoricalPlotter.establish_variables\u001b[1;34m(self, x, y, hue, data, orient, order, hue_order, units)\u001b[0m\n\u001b[0;32m    503\u001b[0m     plot_data \u001b[38;5;241m=\u001b[39m [[]]\n\u001b[0;32m    505\u001b[0m \u001b[38;5;66;03m# The input data is a flat list\u001b[39;00m\n\u001b[1;32m--> 506\u001b[0m \u001b[38;5;28;01melif\u001b[39;00m np\u001b[38;5;241m.\u001b[39misscalar(data[\u001b[38;5;241m0\u001b[39m]):\n\u001b[0;32m    507\u001b[0m     plot_data \u001b[38;5;241m=\u001b[39m [data]\n\u001b[0;32m    509\u001b[0m \u001b[38;5;66;03m# The input data is a nested list\u001b[39;00m\n\u001b[0;32m    510\u001b[0m \u001b[38;5;66;03m# This will catch some things that might fail later\u001b[39;00m\n\u001b[0;32m    511\u001b[0m \u001b[38;5;66;03m# but exhaustive checks are hard\u001b[39;00m\n\u001b[0;32m    512\u001b[0m \u001b[38;5;28;01melse\u001b[39;00m:\n",
      "\u001b[1;31mTypeError\u001b[0m: 'set' object is not subscriptable"
     ]
    },
    {
     "data": {
      "image/png": "[encoded data removed]",
      "text/plain": [
       "<Figure size 1200x800 with 1 Axes>"
      ]
     },
     "metadata": {},
     "output_type": "display_data"
    }
   ],
   "source": [
    "# Plot\n",
    "fig, ax = plt.subplots(figsize=(12, 8))\n",
    "\n",
    "# Bar chart.\n",
    "sns.barplot(overlap, orient='v', ax=ax, color='skyblue')"
   ]
  },
  {
   "cell_type": "markdown",
   "id": "90e57a73",
   "metadata": {},
   "source": [
    "With this variant of lady tasting tea experiment, I could assume that alternative hypothesis could be right only if the tasting person choose all 3 right cups. "
   ]
  },
  {
   "cell_type": "markdown",
   "id": "998213db",
   "metadata": {},
   "source": [
    "## Problem 2: Normal Distribution\n",
    "\n",
    "A normal distribution or Gaussian distribution is a type of continuous probability distribution for a real-valued random variable. The general form of its probability density function is\n",
    "\n",
    "$$ f(x) = \\frac{1}{\\sqrt{2 \\pi \\sigma^2}} e^{-\\frac{(x - \\mu)^2}{2 \\sigma^2}} $$\n",
    "\n",
    "The parameter μ is the mean or expectation of the distribution (and also its median and mode), while the parameter \n",
    "$σ^2$ is the variance. The standard deviation of the distribution is σ. A random variable with a Gaussian distribution is said to be normally distributed. \n",
    "\n",
    "https://en.wikipedia.org/wiki/Normal_distribution\n",
    "\n",
    "##### Task:\n",
    "1.  Evaluate whether numpy.random.standard_normal() generates values from a true normal distribution by generating a sample of 100,000 values. \n",
    "2.  Then use scipy.stats.shapiro() to test whether the sample comes from a normal distribution. Explain the test results and output clearly. \n",
    "3. Create a histogram of sample and overlay the probability density function (PDF) of the standard normal distribution on the histogram. Clearly explain your reasoning and code."
   ]
  },
  {
   "cell_type": "markdown",
   "id": "af75361d",
   "metadata": {},
   "source": [
    "##### Generating data\n",
    "https://numpy.org/doc/2.2/reference/random/generated/numpy.random.standard_normal.html#numpy.random.standard_normal"
   ]
  },
  {
   "cell_type": "code",
   "execution_count": 86,
   "id": "3a66397c",
   "metadata": {},
   "outputs": [
    {
     "data": {
      "text/plain": [
       "array([ 0.76192796,  0.62926071, -0.57111288, ..., -1.92353991,\n",
       "        0.4433603 ,  0.84896467])"
      ]
     },
     "execution_count": 86,
     "metadata": {},
     "output_type": "execute_result"
    }
   ],
   "source": [
    "# Generating the sample\n",
    "data=np.random.standard_normal(100000)\n",
    "data"
   ]
  },
  {
   "cell_type": "markdown",
   "id": "8ab634b2",
   "metadata": {},
   "source": [
    "##### Shapiro-Wilk test"
   ]
  },
  {
   "cell_type": "markdown",
   "id": "16b43cb1",
   "metadata": {},
   "source": [
    "The Shapiro-Wilk test tests the null hypothesis that data was drawn from normal distribution."
   ]
  },
  {
   "cell_type": "markdown",
   "id": "4445c384",
   "metadata": {},
   "source": [
    "https://docs.scipy.org/doc/scipy/reference/generated/scipy.stats.shapiro.html#shapiro"
   ]
  },
  {
   "cell_type": "code",
   "execution_count": 87,
   "id": "b66a36b7",
   "metadata": {},
   "outputs": [
    {
     "name": "stderr",
     "output_type": "stream",
     "text": [
      "c:\\Users\\Lucia\\anaconda3\\Lib\\site-packages\\scipy\\stats\\_morestats.py:1816: UserWarning: p-value may not be accurate for N > 5000.\n",
      "  warnings.warn(\"p-value may not be accurate for N > 5000.\")\n"
     ]
    },
    {
     "data": {
      "text/plain": [
       "ShapiroResult(statistic=0.9999786615371704, pvalue=0.8847088813781738)"
      ]
     },
     "execution_count": 87,
     "metadata": {},
     "output_type": "execute_result"
    }
   ],
   "source": [
    "stats.shapiro(data)"
   ]
  },
  {
   "cell_type": "markdown",
   "id": "255bdb2c",
   "metadata": {},
   "source": [
    "In the documentation for Shapiro-Wilk test it the notion that \n",
    "https://github.com/scipy/scipy/blob/v1.16.1/scipy/stats/_morestats.py#L1943-L2030"
   ]
  },
  {
   "cell_type": "markdown",
   "id": "a0d71eeb",
   "metadata": {},
   "source": [
    "https://docs.scipy.org/doc/scipy/reference/generated/scipy.stats.kstest.html#kstest"
   ]
  },
  {
   "cell_type": "code",
   "execution_count": 88,
   "id": "a5689d0e",
   "metadata": {},
   "outputs": [
    {
     "data": {
      "text/plain": [
       "KstestResult(statistic=0.003079433260703812, pvalue=0.2985396980955045, statistic_location=-0.5487764604810383, statistic_sign=-1)"
      ]
     },
     "execution_count": 88,
     "metadata": {},
     "output_type": "execute_result"
    }
   ],
   "source": [
    "stats.kstest(data, 'norm')"
   ]
  },
  {
   "cell_type": "markdown",
   "id": "741ce9a8",
   "metadata": {},
   "source": [
    "##### Histogram and plot of normal probability density function"
   ]
  },
  {
   "cell_type": "markdown",
   "id": "81bb2c94",
   "metadata": {},
   "source": [
    "https://matplotlib.org/stable/api/_as_gen/matplotlib.pyplot.hist.html#matplotlib-pyplot-hist\n",
    "https://docs.scipy.org/doc/scipy/reference/generated/scipy.stats.norm.html#scipy-stats-norm"
   ]
  },
  {
   "cell_type": "code",
   "execution_count": 91,
   "id": "a3795399",
   "metadata": {},
   "outputs": [
    {
     "data": {
      "text/plain": [
       "[<matplotlib.lines.Line2D at 0x2f68fcbf350>]"
      ]
     },
     "execution_count": 91,
     "metadata": {},
     "output_type": "execute_result"
    },
    {
     "data": {
      "image/png": "[encoded data removed]",
      "text/plain": [
       "<Figure size 1400x600 with 1 Axes>"
      ]
     },
     "metadata": {},
     "output_type": "display_data"
    }
   ],
   "source": [
    "\n",
    "fig, axes = plt.subplots( figsize=(14, 6))\n",
    "plt.hist(data, bins=100,  color='green', alpha=0.5, density=True)\n",
    "x=np.linspace(-4, 4, 100)\n",
    "plt.plot(x, stats.norm.pdf(x, loc=0, scale=1)) # Standard normal PDF"
   ]
  },
  {
   "cell_type": "markdown",
   "id": "9aa3953e",
   "metadata": {},
   "source": [
    "## Problem 3: T-Tests\n",
    "\n",
    "Tasks:\n",
    "Comparision of the resting heart rates of smokers and non-smokers by t-statistic using Python without scipy or statsmodels. Then comparing it to the value given by scipy.stats.\n",
    "\n",
    "What is T-Test:\n"
   ]
  },
  {
   "cell_type": "markdown",
   "id": "f505bd14",
   "metadata": {},
   "source": [
    "#### Data\n",
    "Patient ID\tSmokes\tResting Heart Rate\\\n",
    "0&emsp;&emsp;&emsp;&emsp;Yes&emsp;&emsp;&emsp;&emsp;81\\\n",
    "1&emsp;&emsp;&emsp;&emsp;No&emsp;&emsp;&emsp;&emsp;68\\\n",
    "2&emsp;&emsp;&emsp;&emsp;Yes&emsp;&emsp;&emsp;&emsp;69\\\n",
    "3&emsp;&emsp;&emsp;&emsp;Yes&emsp;&emsp;&emsp;&emsp;76\\\n",
    "4&emsp;&emsp;&emsp;&emsp;No&emsp;&emsp;&emsp;&emsp;74\\\n",
    "5&emsp;&emsp;&emsp;&emsp;Yes&emsp;&emsp;&emsp;&emsp;77\\\n",
    "6&emsp;&emsp;&emsp;&emsp;Yes&emsp;&emsp;&emsp;&emsp;79\\\n",
    "7&emsp;&emsp;&emsp;&emsp;No&emsp;&emsp;&emsp;&emsp;75\\\n",
    "8&emsp;&emsp;&emsp;&emsp;Yes&emsp;&emsp;&emsp;&emsp;61\\\n",
    "9&emsp;&emsp;&emsp;&emsp;No&emsp;&emsp;&emsp;&emsp;68\\\n",
    "10&emsp;&emsp;&emsp;&ensp;Yes&emsp;&emsp;&emsp;&emsp;74\\\n",
    "11&emsp;&emsp;&emsp;&ensp;No&emsp;&emsp;&emsp;&emsp;72\\\n",
    "12&emsp;&emsp;&emsp;&ensp;Yes&emsp;&emsp;&emsp;&emsp;73\\\n",
    "13&emsp;&emsp;&emsp;&ensp;Yes&emsp;&emsp;&emsp;&emsp;70\\\n",
    "14&emsp;&emsp;&emsp;&ensp;No&emsp;&emsp;&emsp;&emsp;67\\\n",
    "15&emsp;&emsp;&emsp;&ensp;No&emsp;&emsp;&emsp;&emsp;67"
   ]
  },
  {
   "cell_type": "markdown",
   "id": "a8d8e87e",
   "metadata": {},
   "source": [
    "As data to compare are unpaired samples, I chose independent t-test. "
   ]
  },
  {
   "cell_type": "code",
   "execution_count": 2,
   "id": "4153feb3",
   "metadata": {},
   "outputs": [],
   "source": [
    "# Arrays \n",
    "smokers = [81, 69, 76, 77, 79, 61, 74, 73, 70]\n",
    "nonsmokers = [68, 74, 75, 68, 72, 67, 67]"
   ]
  },
  {
   "cell_type": "markdown",
   "id": "f4d79c3a",
   "metadata": {},
   "source": [
    "#### Assumptions\n",
    "There are 6 assumptions that independent t-test should meet:\\\n",
    "https://statistics.laerd.com/spss-tutorials/independent-t-test-using-spss-statistics.php\n",
    "1. Dependent variable should be measured on a continuous scale - O.K. in our case.\n",
    "2. Independent variable should consist of two categorical, independent groups - O.K. in our case.\n",
    "3. Independence of observations, which means that there is no relationship between the observations in each group or between the groups themselves - O.K. in our case.\n",
    "4. There should be no significant outliers - it will be checked.\n",
    "5. Dependent variable should be approximately normally distributed for each group of the independent variable - it will be checked.\n",
    "6. Homogeneity of variances - it will be checked"
   ]
  },
  {
   "cell_type": "markdown",
   "id": "7f2f2cc7",
   "metadata": {},
   "source": [
    "##### Interquartile range method to find outliers\n",
    "\n",
    "In this method, median, first interquatile (Q1) and third interquartile (Q3) values have to be identified. Q3 - Q1 is giving interquartile range (IQR). Than, lower and upper fence values can be calculated as: \n",
    "\n",
    "Upper fence = Q3 + (1.5 * IQR)\n",
    "\n",
    "Lower fence = Q1 - (1.5 * IQR)\n",
    "\n",
    "\n",
    "The significant outliers are any values greater than upper fence value or less than lower fence value.\n",
    "\n",
    "https://en.wikipedia.org/wiki/Interquartile_range"
   ]
  },
  {
   "cell_type": "code",
   "execution_count": null,
   "id": "5ab020a2",
   "metadata": {},
   "outputs": [
    {
     "name": "stdout",
     "output_type": "stream",
     "text": [
      "Smokers sorted: [61, 69, 70, 73, 74, 76, 77, 79, 81]\n",
      "Non-smokers sorted: [67, 67, 68, 68, 72, 74, 75]\n"
     ]
    }
   ],
   "source": [
    "# sorting helps to identify median, Q1, Q3 values\n",
    "smokers_sorted = sorted(smokers)\n",
    "nonsmokers_sorted = sorted(nonsmokers)\n",
    "\n",
    "print(\"Smokers sorted:\", smokers_sorted)\n",
    "print(\"Non-smokers sorted:\", nonsmokers_sorted)"
   ]
  },
  {
   "cell_type": "code",
   "execution_count": 14,
   "id": "7b8670ba",
   "metadata": {},
   "outputs": [
    {
     "name": "stdout",
     "output_type": "stream",
     "text": [
      "Low fence for smokers:  59.5\n",
      "High fence for smokers:  87.5\n",
      "Smokers data:  [61, 69, 70, 73, 74, 76, 77, 79, 81]\n"
     ]
    }
   ],
   "source": [
    "smokers_M = 74                        \n",
    "smokers_Q1 = 70                                                  \n",
    "smokers_Q3 = 77\n",
    "smokers_IQR = smokers_Q3 - smokers_Q1 \n",
    "\n",
    "low_fence_smokers= smokers_Q1 - (1.5 * smokers_IQR)\n",
    "high_fence_smokers = smokers_Q3 + (1.5 * smokers_IQR)\n",
    "\n",
    "print(\"Low fence for smokers: \",low_fence_smokers)\n",
    "print(\"High fence for smokers: \",high_fence_smokers)\n",
    "print(\"Smokers data: \", smokers_sorted)"
   ]
  },
  {
   "cell_type": "markdown",
   "id": "2ce6234d",
   "metadata": {},
   "source": [
    "No significant outliers for smokers array can be found."
   ]
  },
  {
   "cell_type": "code",
   "execution_count": 13,
   "id": "37d0420b",
   "metadata": {},
   "outputs": [
    {
     "name": "stdout",
     "output_type": "stream",
     "text": [
      "Low fence for nonsmokers:  59.25\n",
      "High fence for smokers:  81.25\n",
      "Smokers data:  [67, 67, 68, 68, 72, 74, 75]\n"
     ]
    }
   ],
   "source": [
    "nonsmokers_M = 68                        \n",
    "nonsmokers_Q1 = 67.5                                                  \n",
    "nonsmokers_Q3 = 73\n",
    "nonsmokers_IQR = nonsmokers_Q3 - nonsmokers_Q1 \n",
    "\n",
    "low_fence_nonsmokers= nonsmokers_Q1 - (1.5 * nonsmokers_IQR)\n",
    "high_fence_nonsmokers = nonsmokers_Q3 + (1.5 * nonsmokers_IQR)\n",
    "\n",
    "print(\"Low fence for nonsmokers: \",low_fence_nonsmokers)\n",
    "print(\"High fence for smokers: \",high_fence_nonsmokers)\n",
    "print(\"Smokers data: \", nonsmokers_sorted)"
   ]
  },
  {
   "cell_type": "markdown",
   "id": "98e9d558",
   "metadata": {},
   "source": [
    "No significant outlier for nonsmoker array can be found."
   ]
  },
  {
   "cell_type": "markdown",
   "id": "051eb4b7",
   "metadata": {},
   "source": [
    "##### Normal distribution check"
   ]
  },
  {
   "cell_type": "markdown",
   "id": "5f7bcadf",
   "metadata": {},
   "source": [
    "I decide to check normal distribution of values with Shapiro-Wilk testas as this method works well for small datasets. Minimum of samples for Shapiro-Wilk test is 3."
   ]
  },
  {
   "cell_type": "code",
   "execution_count": 5,
   "id": "e4f61dd1",
   "metadata": {},
   "outputs": [
    {
     "data": {
      "text/plain": [
       "ShapiroResult(statistic=0.9473088979721069, pvalue=0.6605566143989563)"
      ]
     },
     "execution_count": 5,
     "metadata": {},
     "output_type": "execute_result"
    }
   ],
   "source": [
    "stats.shapiro(smokers)"
   ]
  },
  {
   "cell_type": "code",
   "execution_count": 6,
   "id": "62e898b0",
   "metadata": {},
   "outputs": [
    {
     "data": {
      "text/plain": [
       "ShapiroResult(statistic=0.8303568959236145, pvalue=0.08064436167478561)"
      ]
     },
     "execution_count": 6,
     "metadata": {},
     "output_type": "execute_result"
    }
   ],
   "source": [
    "stats.shapiro(nonsmokers)"
   ]
  },
  {
   "cell_type": "markdown",
   "id": "a31beb7c",
   "metadata": {},
   "source": [
    "I can assume that data in both arrays are normally distributed as p-value in both test is not higher than 0.05."
   ]
  },
  {
   "cell_type": "markdown",
   "id": "5cb1d075",
   "metadata": {},
   "source": [
    "##### Homogeneity of variances"
   ]
  },
  {
   "cell_type": "markdown",
   "id": "eeb1705d",
   "metadata": {},
   "source": [
    "Variance measures how values of dataset are spread around the mean.\n",
    " \n",
    "A small variance → data points are close to the mean.\\\n",
    "A large variance → data points are more spread out.\n",
    "\n",
    "Very easy way how to compare variances of datasets is using boxplot. If lenghts of whiskers differ greatly, data in datasets are not spread similarly.\n",
    "\n",
    "https://seaborn.pydata.org/generated/seaborn.boxplot.html"
   ]
  },
  {
   "cell_type": "code",
   "execution_count": 29,
   "id": "6707106e",
   "metadata": {},
   "outputs": [
    {
     "data": {
      "text/plain": [
       "<Axes: >"
      ]
     },
     "execution_count": 29,
     "metadata": {},
     "output_type": "execute_result"
    },
    {
     "data": {
      "image/png": "[encoded data removed]",
      "text/plain": [
       "<Figure size 640x480 with 1 Axes>"
      ]
     },
     "metadata": {},
     "output_type": "display_data"
    }
   ],
   "source": [
    "sns.boxplot(data=(smokers, nonsmokers))"
   ]
  },
  {
   "cell_type": "code",
   "execution_count": null,
   "id": "dff8012d",
   "metadata": {},
   "outputs": [],
   "source": []
  },
  {
   "cell_type": "markdown",
   "id": "9de17f77",
   "metadata": {},
   "source": [
    "There is not homogeneity of variances between these datasets. "
   ]
  },
  {
   "cell_type": "code",
   "execution_count": 7,
   "id": "f3cb5fad",
   "metadata": {},
   "outputs": [
    {
     "data": {
      "text/plain": [
       "Ttest_indResult(statistic=1.328165641371784, pvalue=0.20694631459381652)"
      ]
     },
     "execution_count": 7,
     "metadata": {},
     "output_type": "execute_result"
    }
   ],
   "source": [
    "# Welch's t-Test\n",
    "stats.ttest_ind(smokers, nonsmokers, equal_var = False)"
   ]
  },
  {
   "cell_type": "markdown",
   "id": "4aa3e487",
   "metadata": {},
   "source": [
    "## Problem 4: Type I Errors"
   ]
  },
  {
   "cell_type": "code",
   "execution_count": 8,
   "id": "43afd5df",
   "metadata": {},
   "outputs": [
    {
     "name": "stdout",
     "output_type": "stream",
     "text": [
      "Estimated Type I Error Rate: 0.0489\n"
     ]
    }
   ],
   "source": [
    "\n",
    "# initialize counter\n",
    "no_type_i = 0\n",
    "alpha = 0.05\n",
    "n_sim = 10000\n",
    "\n",
    "for _ in range(n_sim):\n",
    "    # generate 3 samples of size 100 each\n",
    "    sample_a = np.random.standard_normal(100)\n",
    "    sample_b= np.random.standard_normal(100)\n",
    "    sample_c= np.random.standard_normal(100)\n",
    "    \n",
    "    # one-way ANOVA\n",
    "    f_stat, p_value = stats.f_oneway(sample_a, sample_b, sample_c)\n",
    "    \n",
    "    # check if we made a type I error\n",
    "    if p_value < alpha:\n",
    "        no_type_i += 1\n",
    "\n",
    "# estimate probability\n",
    "prob_type_i = no_type_i / n_sim\n",
    "print(f\"Estimated Type I Error Rate: {prob_type_i:.4f}\")\n"
   ]
  },
  {
   "cell_type": "markdown",
   "id": "94224bed",
   "metadata": {},
   "source": [
    "## Problem 5: Binomial distribution\n",
    "\n",
    "##### What is the binomial distribution?\n",
    "\n",
    "\"The binomial distribution with parameters n and p is the discrete probability distribution of the number of successes in a sequence of n independent experiments, each asking a yes–no question, and each with its own Boolean-valued outcome: success (with probability p) or failure (with probability q = 1 − p).\"\n",
    "\n",
    " https://en.wikipedia.org/wiki/Binomial_distribution\n",
    "\n",
    "The term \"discrete\" describes situations where a random variable can take on specific, separate values (not any value in between).  In comparision with normal distribution (which is theoretically infinite) normal distribution is finite. Examples of experiments where data are distributed binomial could be coins flips or guessing the right answers in test randomnly.\n",
    "\n",
    "The probability mass function (PMF) of the binomial distribution:\n",
    "\n",
    "$$\n",
    "f(k) = \\binom{n}{k} p^k (1-p)^{n-k}, \\quad k = 0, 1, 2, \\dots, n\n",
    "$$\n",
    "\n",
    "where\n",
    "\n",
    "n = Total number of trials\\\n",
    "k = Number of successes\\\n",
    "p = Probability of success in the range 0 ≤ p ≤ 1\n",
    "\n",
    "\n",
    "For generating samples from binomial distribution, I going to use numpy.random.binomial().\n",
    "https://numpy.org/doc/2.0/reference/random/generated/numpy.random.binomial.html#numpy-random-binomial"
   ]
  },
  {
   "cell_type": "code",
   "execution_count": null,
   "id": "d2cced67",
   "metadata": {},
   "outputs": [
    {
     "name": "stdout",
     "output_type": "stream",
     "text": [
      "[1 0 0 0 1 0 1 0 1 1 1 1 1 1 1 1 1 1 1 1 1 0 1 1 0 0 0 1 0 0 0 1 1 0 1 1 0\n",
      " 0 1 1 1 0 1 1 1 0 0 1 0 0 1 0 1 0 0 0 1 1 1 1 0 0 0 0 1 0 0 1 1 1 0 1 1 1\n",
      " 1 1 1 1 1 0 1 1 0 0 0 0 1 1 1 0 0 1 1 1 0 1 1 0 0 0]\n"
     ]
    }
   ],
   "source": [
    "# Simulate: a person guesses 100 yes/no questions\n",
    "guess_test1 = np.random.binomial(n=1, p=0.5, size=100)\n",
    "print(guess_test1)"
   ]
  },
  {
   "cell_type": "code",
   "execution_count": 42,
   "id": "b7dffbd7",
   "metadata": {},
   "outputs": [
    {
     "data": {
      "image/png": "[encoded data removed]",
      "text/plain": [
       "<Figure size 640x480 with 1 Axes>"
      ]
     },
     "metadata": {},
     "output_type": "display_data"
    }
   ],
   "source": [
    "# now simulation of 1000 people guessing 1000 yes/no questions\n",
    "n_questions = 1000   # number of yes/no questions\n",
    "p = 0.5             # probability of correct guess\n",
    "n_trials = 1000  # simulate 1000 times\n",
    "\n",
    "scores = np.random.binomial(n_questions, p, size=n_trials)\n",
    "\n",
    "# plot histogram\n",
    "plt.hist(scores, bins=1000, edgecolor='black', color='blue')\n",
    "plt.xlabel('Number of correct guesses')\n",
    "plt.ylabel('Frequency')\n",
    "plt.title('Distribution of correct guesses ( 1000 simulations)')\n",
    "plt.show()\n"
   ]
  },
  {
   "cell_type": "markdown",
   "id": "6d22af04",
   "metadata": {},
   "source": [
    "This plot reminds the plot of normal distribution. I am going to check this shapiro-wilk test."
   ]
  },
  {
   "cell_type": "code",
   "execution_count": 43,
   "id": "ffb1a04a",
   "metadata": {},
   "outputs": [
    {
     "data": {
      "text/plain": [
       "ShapiroResult(statistic=0.9980089068412781, pvalue=0.2863914370536804)"
      ]
     },
     "execution_count": 43,
     "metadata": {},
     "output_type": "execute_result"
    }
   ],
   "source": [
    "normal_bool=stats.shapiro(scores)\n",
    "normal_bool"
   ]
  },
  {
   "cell_type": "markdown",
   "id": "3f133ad1",
   "metadata": {},
   "source": [
    "Shapiro-Wilk test gave me proof of normally distributed data. Even though, I cannot assume that this data are normally distributed. \"In probability theory, the central limit theorem (CLT) states that, under appropriate conditions, the distribution of a normalized version of the sample mean converges to a standard normal distribution.\"\n",
    "https://en.wikipedia.org/wiki/Central_limit_theorem\\\n",
    "In the case of binomial distribution these conditions are p-value = 0.5 and or number of samples are n(1−p) ≥ 5."
   ]
  },
  {
   "cell_type": "code",
   "execution_count": null,
   "id": "d050397c",
   "metadata": {},
   "outputs": [],
   "source": [
    "# Simulation of 50 people guessing 20 questions, each with 4 options, only 1 is correct\n",
    "questions4 = 20   # number of questions\n",
    "p4 = 0.25             # 1 from 4 answers is correct\n",
    "trials4 = 50 # simulate 50 times\n",
    "\n",
    "scores4 = np.random.binomial(questions4, p4, trials4)"
   ]
  },
  {
   "cell_type": "code",
   "execution_count": 35,
   "id": "f78373e4",
   "metadata": {},
   "outputs": [
    {
     "data": {
      "image/png": "[encoded data removed]",
      "text/plain": [
       "<Figure size 640x480 with 1 Axes>"
      ]
     },
     "metadata": {},
     "output_type": "display_data"
    }
   ],
   "source": [
    "# plot histogram\n",
    "plt.hist(scores4, bins=50, edgecolor='black', alpha=0.7, color='blue')\n",
    "plt.xlabel('Number of correct guesses')\n",
    "plt.ylabel('Frequency')\n",
    "plt.title('Distribution of correct guesses ( 50 simulations)')\n",
    "plt.show()"
   ]
  },
  {
   "cell_type": "code",
   "execution_count": 34,
   "id": "e29d4bce",
   "metadata": {},
   "outputs": [
    {
     "data": {
      "text/plain": [
       "ShapiroResult(statistic=0.9281250834465027, pvalue=0.004696258809417486)"
      ]
     },
     "execution_count": 34,
     "metadata": {},
     "output_type": "execute_result"
    }
   ],
   "source": [
    "normal_bool4=stats.shapiro(scores4)\n",
    "normal_bool4"
   ]
  },
  {
   "cell_type": "markdown",
   "id": "e5897622",
   "metadata": {},
   "source": [
    "Based on the Shapiro-Wilk test values of statistic and p, I can assume that this data does not come from normal distribution."
   ]
  }
 ],
 "metadata": {
  "kernelspec": {
   "display_name": "base",
   "language": "python",
   "name": "python3"
  },
  "language_info": {
   "codemirror_mode": {
    "name": "ipython",
    "version": 3
   },
   "file_extension": ".py",
   "mimetype": "text/x-python",
   "name": "python",
   "nbconvert_exporter": "python",
   "pygments_lexer": "ipython3",
   "version": "3.11.5"
  }
 },
 "nbformat": 4,
 "nbformat_minor": 5
}
